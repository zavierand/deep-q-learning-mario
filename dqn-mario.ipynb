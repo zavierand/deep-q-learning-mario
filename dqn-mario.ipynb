{
 "cells": [
  {
   "cell_type": "markdown",
   "id": "52b26059-4484-4c0d-98d0-a5eee92d0b48",
   "metadata": {},
   "source": [
    "# Deep Q-Learning on Mario Bros\n",
    "<hr>\n",
    "This is a reinforcement learning project on implementing a deep q-network and training it to play the Atari 2600 version of Mario Bros. Below is the notebook documenting training, experiments done, etc."
   ]
  },
  {
   "cell_type": "markdown",
   "id": "9fee4ed1-2f42-49c6-ac42-ccbbdfb1515c",
   "metadata": {},
   "source": [
    "Let's create the gym environment"
   ]
  },
  {
   "cell_type": "code",
   "execution_count": 1,
   "id": "54a301b3-93b2-49dd-b74b-f6c26eb792d6",
   "metadata": {},
   "outputs": [
    {
     "name": "stdout",
     "output_type": "stream",
     "text": [
      "Requirement already satisfied: gymnasium[other] in /opt/anaconda3/lib/python3.11/site-packages (1.1.1)\n",
      "Requirement already satisfied: numpy>=1.21.0 in /opt/anaconda3/lib/python3.11/site-packages (from gymnasium[other]) (1.26.4)\n",
      "Requirement already satisfied: cloudpickle>=1.2.0 in /opt/anaconda3/lib/python3.11/site-packages (from gymnasium[other]) (2.2.1)\n",
      "Requirement already satisfied: typing-extensions>=4.3.0 in /opt/anaconda3/lib/python3.11/site-packages (from gymnasium[other]) (4.12.2)\n",
      "Requirement already satisfied: farama-notifications>=0.0.1 in /opt/anaconda3/lib/python3.11/site-packages (from gymnasium[other]) (0.0.4)\n",
      "Requirement already satisfied: moviepy>=1.0.0 in /opt/anaconda3/lib/python3.11/site-packages (from gymnasium[other]) (2.1.2)\n",
      "Requirement already satisfied: matplotlib>=3.0 in /opt/anaconda3/lib/python3.11/site-packages (from gymnasium[other]) (3.10.0)\n",
      "Requirement already satisfied: opencv-python>=3.0 in /opt/anaconda3/lib/python3.11/site-packages (from gymnasium[other]) (4.11.0.86)\n",
      "Requirement already satisfied: seaborn>=0.13 in /opt/anaconda3/lib/python3.11/site-packages (from gymnasium[other]) (0.13.2)\n",
      "Requirement already satisfied: contourpy>=1.0.1 in /opt/anaconda3/lib/python3.11/site-packages (from matplotlib>=3.0->gymnasium[other]) (1.2.0)\n",
      "Requirement already satisfied: cycler>=0.10 in /opt/anaconda3/lib/python3.11/site-packages (from matplotlib>=3.0->gymnasium[other]) (0.11.0)\n",
      "Requirement already satisfied: fonttools>=4.22.0 in /opt/anaconda3/lib/python3.11/site-packages (from matplotlib>=3.0->gymnasium[other]) (4.25.0)\n",
      "Requirement already satisfied: kiwisolver>=1.3.1 in /opt/anaconda3/lib/python3.11/site-packages (from matplotlib>=3.0->gymnasium[other]) (1.4.4)\n",
      "Requirement already satisfied: packaging>=20.0 in /opt/anaconda3/lib/python3.11/site-packages (from matplotlib>=3.0->gymnasium[other]) (23.1)\n",
      "Requirement already satisfied: pillow>=8 in /opt/anaconda3/lib/python3.11/site-packages (from matplotlib>=3.0->gymnasium[other]) (10.2.0)\n",
      "Requirement already satisfied: pyparsing>=2.3.1 in /opt/anaconda3/lib/python3.11/site-packages (from matplotlib>=3.0->gymnasium[other]) (3.0.9)\n",
      "Requirement already satisfied: python-dateutil>=2.7 in /opt/anaconda3/lib/python3.11/site-packages (from matplotlib>=3.0->gymnasium[other]) (2.8.2)\n",
      "Requirement already satisfied: decorator<6.0,>=4.0.2 in /opt/anaconda3/lib/python3.11/site-packages (from moviepy>=1.0.0->gymnasium[other]) (5.1.1)\n",
      "Requirement already satisfied: imageio<3.0,>=2.5 in /opt/anaconda3/lib/python3.11/site-packages (from moviepy>=1.0.0->gymnasium[other]) (2.33.1)\n",
      "Requirement already satisfied: imageio_ffmpeg>=0.2.0 in /opt/anaconda3/lib/python3.11/site-packages (from moviepy>=1.0.0->gymnasium[other]) (0.6.0)\n",
      "Requirement already satisfied: proglog<=1.0.0 in /opt/anaconda3/lib/python3.11/site-packages (from moviepy>=1.0.0->gymnasium[other]) (0.1.12)\n",
      "Requirement already satisfied: python-dotenv>=0.10 in /opt/anaconda3/lib/python3.11/site-packages (from moviepy>=1.0.0->gymnasium[other]) (0.21.0)\n",
      "Requirement already satisfied: tqdm in /opt/anaconda3/lib/python3.11/site-packages (from proglog<=1.0.0->moviepy>=1.0.0->gymnasium[other]) (4.67.1)\n",
      "Requirement already satisfied: six>=1.5 in /opt/anaconda3/lib/python3.11/site-packages (from python-dateutil>=2.7->matplotlib>=3.0->gymnasium[other]) (1.16.0)\n",
      "Requirement already satisfied: pandas>=1.2 in /opt/anaconda3/lib/python3.11/site-packages (from seaborn>=0.13->gymnasium[other]) (1.5.3)\n",
      "Requirement already satisfied: pytz>=2020.1 in /opt/anaconda3/lib/python3.11/site-packages (from pandas>=1.2->seaborn>=0.13->gymnasium[other]) (2023.3.post1)\n",
      "Note: you may need to restart the kernel to use updated packages.\n"
     ]
    }
   ],
   "source": [
    "pip install \"gymnasium[other]\""
   ]
  },
  {
   "cell_type": "code",
   "execution_count": 2,
   "id": "153bdbd3-b480-4be4-8923-104396ac806b",
   "metadata": {},
   "outputs": [],
   "source": [
    "# import environment dependencies\n",
    "import gymnasium as gym\n",
    "from gymnasium.wrappers import GrayscaleObservation, ResizeObservation, FrameStackObservation\n",
    "import ale_py\n",
    "from ale_py import ALEInterface\n",
    "\n",
    "# import saved model\n",
    "import torch\n",
    "\n",
    "# import model\n",
    "from dqn import DQN\n",
    "\n",
    "# import plotting\n",
    "import matplotlib.pyplot as plt\n",
    "\n",
    "# import wandb for logging\n",
    "import wandb\n",
    "\n",
    "# import rendering\n",
    "from IPython import display\n",
    "from PIL import Image\n",
    "import time"
   ]
  },
  {
   "cell_type": "markdown",
   "id": "6f889745-eb0a-4b4e-a23b-f01f74a67a50",
   "metadata": {},
   "source": [
    "Here is some starter code to play around with the environment and API - get a feel for what is happening with the API and the wrapper."
   ]
  },
  {
   "cell_type": "code",
   "execution_count": 3,
   "id": "35cab364-7559-4e6c-bc86-6988647250f8",
   "metadata": {},
   "outputs": [
    {
     "name": "stderr",
     "output_type": "stream",
     "text": [
      "A.L.E: Arcade Learning Environment (version 0.11.0+dfae0bd)\n",
      "[Powered by Stella]\n"
     ]
    },
    {
     "name": "stdout",
     "output_type": "stream",
     "text": [
      "4\n",
      "Box(0, 255, (210, 160, 3), uint8)\n",
      "False\n",
      "<class 'numpy.int64'>\n",
      "<class 'gymnasium.spaces.box.Box'>\n",
      "<class 'bool'>\n",
      "(210, 160, 3)\n",
      "render type: <class 'numpy.ndarray'>\n"
     ]
    },
    {
     "data": {
      "image/png": "[encoded data removed]",
      "text/plain": [
       "<Figure size 640x480 with 1 Axes>"
      ]
     },
     "metadata": {},
     "output_type": "display_data"
    }
   ],
   "source": [
    "# let's create the environment to make sure it works\n",
    "env_prac = gym.make(\n",
    "    'ALE/MarioBros-v5', \n",
    "    obs_type = 'rgb',\n",
    "    render_mode = 'rgb_array'\n",
    ")\n",
    "\n",
    "obs, info = env_prac.reset()\n",
    "ACTION_SIZE = env_prac.action_space.n\n",
    "ACTIONS = env_prac.action_space.sample()\n",
    "OBSERVATIONS = env_prac.observation_space\n",
    "obs, reward, terminated, truncated, info = env_prac.step(ACTIONS)\n",
    "\n",
    "# print and log to see data types\n",
    "print(ACTIONS)\n",
    "print(OBSERVATIONS)\n",
    "print(terminated)\n",
    "\n",
    "print(type(ACTIONS))\n",
    "print(type(OBSERVATIONS))\n",
    "print(type(terminated))\n",
    "print(env_prac.render().shape)\n",
    "\n",
    "# render the image\n",
    "img = plt.imshow(env_prac.render()) # only call this once\n",
    "print('render type:', type(env_prac.render()))\n",
    "\n",
    "env_prac.close()"
   ]
  },
  {
   "cell_type": "code",
   "execution_count": 4,
   "id": "4037d9b5-1a78-4ced-ae94-78bb50e87e34",
   "metadata": {},
   "outputs": [
    {
     "name": "stdout",
     "output_type": "stream",
     "text": [
      "Shape of observation: (4, 84, 84)\n"
     ]
    }
   ],
   "source": [
    "# okay, let's actually start writing some code\n",
    "rew_arr = [] # array holding rewards\n",
    "episode_count = 100 # num episodes to train on\n",
    "\n",
    "# instantiate the mario emulator gym\n",
    "env = gym.make(\n",
    "    'ALE/MarioBros-v5',\n",
    "    obs_type = 'rgb',\n",
    "    render_mode = 'rgb_array',\n",
    "    frameskip = 5\n",
    ")\n",
    "\n",
    "# add framestacking, grayscale and resize for better temporal inferencing\n",
    "    # indicated by previous model performance\n",
    "env = GrayscaleObservation(env)\n",
    "env = ResizeObservation(env, (84, 84))\n",
    "env = FrameStackObservation(env, stack_size=4)\n",
    "\n",
    "# reset environment\n",
    "obs, info = env.reset()\n",
    "\n",
    "#img = plt.imshow(env.render()) # only call this once\n",
    "#obs = obs.transpose(0, 3, 1, 2).reshape(210, 160, 12)\n",
    "print(f'Shape of observation: {obs.shape}')"
   ]
  },
  {
   "cell_type": "code",
   "execution_count": 9,
   "id": "990f1e09-7b1b-4f6b-a9d6-cdc7f95c3c3a",
   "metadata": {},
   "outputs": [
    {
     "name": "stdout",
     "output_type": "stream",
     "text": [
      "In Channels for obs: 4\n"
     ]
    }
   ],
   "source": [
    "# set in-channels for cnn\n",
    "in_channels = obs.shape[0]\n",
    "print(f'In Channels for obs: {in_channels}')\n",
    "\n",
    "# instantiate the model\n",
    "dqn = DQN(env, in_channels, in_channels)"
   ]
  },
  {
   "cell_type": "code",
   "execution_count": 10,
   "id": "f1cdd48e-2c7b-4bbb-b31a-cb5fe7693dc5",
   "metadata": {},
   "outputs": [
    {
     "name": "stdout",
     "output_type": "stream",
     "text": [
      "Shape of observation: (4, 84, 84)\n"
     ]
    },
    {
     "ename": "ValueError",
     "evalue": "pic should not have > 4 channels. Got 84 channels.",
     "output_type": "error",
     "traceback": [
      "\u001b[0;31m---------------------------------------------------------------------------\u001b[0m",
      "\u001b[0;31mValueError\u001b[0m                                Traceback (most recent call last)",
      "Cell \u001b[0;32mIn[10], line 1\u001b[0m\n\u001b[0;32m----> 1\u001b[0m dqn\u001b[38;5;241m.\u001b[39mcheckConvInputSize(obs)\n",
      "File \u001b[0;32m~/Desktop/Projects/dqn-mario/dqn.py:109\u001b[0m, in \u001b[0;36mDQN.checkConvInputSize\u001b[0;34m(self, obs)\u001b[0m\n\u001b[1;32m    105\u001b[0m \u001b[38;5;28;01mdef\u001b[39;00m \u001b[38;5;21mcheckConvInputSize\u001b[39m(\u001b[38;5;28mself\u001b[39m, obs):\n\u001b[1;32m    106\u001b[0m     \u001b[38;5;66;03m# check size of conv input to make sure enough frames are being passed\u001b[39;00m\n\u001b[1;32m    107\u001b[0m     \u001b[38;5;66;03m# after preprocessing\u001b[39;00m\n\u001b[1;32m    108\u001b[0m     \u001b[38;5;28mprint\u001b[39m(\u001b[38;5;124mf\u001b[39m\u001b[38;5;124m'\u001b[39m\u001b[38;5;124mShape of observation: \u001b[39m\u001b[38;5;132;01m{\u001b[39;00mobs\u001b[38;5;241m.\u001b[39mshape\u001b[38;5;132;01m}\u001b[39;00m\u001b[38;5;124m'\u001b[39m)\n\u001b[0;32m--> 109\u001b[0m     obs \u001b[38;5;241m=\u001b[39m \u001b[38;5;28mself\u001b[39m\u001b[38;5;241m.\u001b[39mpreprocess(obs)\u001b[38;5;241m.\u001b[39mto(\u001b[38;5;28mself\u001b[39m\u001b[38;5;241m.\u001b[39mdevice)\n\u001b[1;32m    110\u001b[0m     \u001b[38;5;28mprint\u001b[39m(\u001b[38;5;124mf\u001b[39m\u001b[38;5;124m'\u001b[39m\u001b[38;5;124mShape of Conv Input: \u001b[39m\u001b[38;5;132;01m{\u001b[39;00mobs\u001b[38;5;241m.\u001b[39mshape\u001b[38;5;132;01m}\u001b[39;00m\u001b[38;5;124m'\u001b[39m)\n",
      "File \u001b[0;32m~/Desktop/Projects/dqn-mario/dqn.py:94\u001b[0m, in \u001b[0;36mDQN.preprocess\u001b[0;34m(self, obs)\u001b[0m\n\u001b[1;32m     93\u001b[0m \u001b[38;5;28;01mdef\u001b[39;00m \u001b[38;5;21mpreprocess\u001b[39m(\u001b[38;5;28mself\u001b[39m, obs):\n\u001b[0;32m---> 94\u001b[0m     frame \u001b[38;5;241m=\u001b[39m \u001b[38;5;28mself\u001b[39m\u001b[38;5;241m.\u001b[39mtransform(obs)\n\u001b[1;32m     95\u001b[0m     \u001b[38;5;28;01mreturn\u001b[39;00m frame\n",
      "File \u001b[0;32m/opt/anaconda3/lib/python3.11/site-packages/torchvision/transforms/transforms.py:95\u001b[0m, in \u001b[0;36mCompose.__call__\u001b[0;34m(self, img)\u001b[0m\n\u001b[1;32m     93\u001b[0m \u001b[38;5;28;01mdef\u001b[39;00m \u001b[38;5;21m__call__\u001b[39m(\u001b[38;5;28mself\u001b[39m, img):\n\u001b[1;32m     94\u001b[0m     \u001b[38;5;28;01mfor\u001b[39;00m t \u001b[38;5;129;01min\u001b[39;00m \u001b[38;5;28mself\u001b[39m\u001b[38;5;241m.\u001b[39mtransforms:\n\u001b[0;32m---> 95\u001b[0m         img \u001b[38;5;241m=\u001b[39m t(img)\n\u001b[1;32m     96\u001b[0m     \u001b[38;5;28;01mreturn\u001b[39;00m img\n",
      "File \u001b[0;32m/opt/anaconda3/lib/python3.11/site-packages/torchvision/transforms/transforms.py:234\u001b[0m, in \u001b[0;36mToPILImage.__call__\u001b[0;34m(self, pic)\u001b[0m\n\u001b[1;32m    225\u001b[0m \u001b[38;5;28;01mdef\u001b[39;00m \u001b[38;5;21m__call__\u001b[39m(\u001b[38;5;28mself\u001b[39m, pic):\n\u001b[1;32m    226\u001b[0m \u001b[38;5;250m    \u001b[39m\u001b[38;5;124;03m\"\"\"\u001b[39;00m\n\u001b[1;32m    227\u001b[0m \u001b[38;5;124;03m    Args:\u001b[39;00m\n\u001b[1;32m    228\u001b[0m \u001b[38;5;124;03m        pic (Tensor or numpy.ndarray): Image to be converted to PIL Image.\u001b[39;00m\n\u001b[0;32m   (...)\u001b[0m\n\u001b[1;32m    232\u001b[0m \n\u001b[1;32m    233\u001b[0m \u001b[38;5;124;03m    \"\"\"\u001b[39;00m\n\u001b[0;32m--> 234\u001b[0m     \u001b[38;5;28;01mreturn\u001b[39;00m F\u001b[38;5;241m.\u001b[39mto_pil_image(pic, \u001b[38;5;28mself\u001b[39m\u001b[38;5;241m.\u001b[39mmode)\n",
      "File \u001b[0;32m/opt/anaconda3/lib/python3.11/site-packages/torchvision/transforms/functional.py:277\u001b[0m, in \u001b[0;36mto_pil_image\u001b[0;34m(pic, mode)\u001b[0m\n\u001b[1;32m    274\u001b[0m     \u001b[38;5;28;01mraise\u001b[39;00m \u001b[38;5;167;01mValueError\u001b[39;00m(\u001b[38;5;124mf\u001b[39m\u001b[38;5;124m\"\u001b[39m\u001b[38;5;124mpic should be 2/3 dimensional. Got \u001b[39m\u001b[38;5;132;01m{\u001b[39;00mpic\u001b[38;5;241m.\u001b[39mndim\u001b[38;5;132;01m}\u001b[39;00m\u001b[38;5;124m dimensions.\u001b[39m\u001b[38;5;124m\"\u001b[39m)\n\u001b[1;32m    276\u001b[0m \u001b[38;5;28;01mif\u001b[39;00m pic\u001b[38;5;241m.\u001b[39mshape[\u001b[38;5;241m-\u001b[39m\u001b[38;5;241m1\u001b[39m] \u001b[38;5;241m>\u001b[39m \u001b[38;5;241m4\u001b[39m:\n\u001b[0;32m--> 277\u001b[0m     \u001b[38;5;28;01mraise\u001b[39;00m \u001b[38;5;167;01mValueError\u001b[39;00m(\u001b[38;5;124mf\u001b[39m\u001b[38;5;124m\"\u001b[39m\u001b[38;5;124mpic should not have > 4 channels. Got \u001b[39m\u001b[38;5;132;01m{\u001b[39;00mpic\u001b[38;5;241m.\u001b[39mshape[\u001b[38;5;241m-\u001b[39m\u001b[38;5;241m1\u001b[39m]\u001b[38;5;132;01m}\u001b[39;00m\u001b[38;5;124m channels.\u001b[39m\u001b[38;5;124m\"\u001b[39m)\n\u001b[1;32m    279\u001b[0m npimg \u001b[38;5;241m=\u001b[39m pic\n\u001b[1;32m    281\u001b[0m \u001b[38;5;28;01mif\u001b[39;00m np\u001b[38;5;241m.\u001b[39missubdtype(npimg\u001b[38;5;241m.\u001b[39mdtype, np\u001b[38;5;241m.\u001b[39mfloating) \u001b[38;5;129;01mand\u001b[39;00m mode \u001b[38;5;241m!=\u001b[39m \u001b[38;5;124m\"\u001b[39m\u001b[38;5;124mF\u001b[39m\u001b[38;5;124m\"\u001b[39m:\n",
      "\u001b[0;31mValueError\u001b[0m: pic should not have > 4 channels. Got 84 channels."
     ]
    }
   ],
   "source": [
    "dqn.checkConvInputSize(obs)"
   ]
  },
  {
   "cell_type": "code",
   "execution_count": null,
   "id": "bb74c26b-93af-4e4e-8d57-1774469da797",
   "metadata": {},
   "outputs": [],
   "source": [
    "# init wandb logging \n",
    "wandb.login()\n",
    "\n",
    "wandb.init(\n",
    "    entity=\"zavierand-new-york-university\",\n",
    "    project='dqn-mario',\n",
    "    config={\n",
    "        'learning_rate': 1e-2,\n",
    "        'architecture': 'DQN',\n",
    "        'epochs': 5000,\n",
    "    },\n",
    ")"
   ]
  },
  {
   "cell_type": "code",
   "execution_count": 5,
   "id": "cf4cbea1-7c26-43b1-8e80-032d31c940f6",
   "metadata": {},
   "outputs": [
    {
     "name": "stdout",
     "output_type": "stream",
     "text": [
      "Rendering agent at episode 1000\n",
      "Average Reward per Episode: 0.0\n"
     ]
    },
    {
     "data": {
      "image/png": "[encoded data removed]",
      "text/plain": [
       "<Figure size 640x480 with 1 Axes>"
      ]
     },
     "metadata": {},
     "output_type": "display_data"
    }
   ],
   "source": [
    "# load the trained model\n",
    "checkpoint = torch.load('./checkpoints/dqn_checkpoint_epoch_4500.pt', map_location=torch.device('cpu'))\n",
    "dqn.model.load_state_dict(checkpoint['model_state_dict'])\n",
    "\n",
    "# Evaluate the model's performance and capture frames\n",
    "num_episodes = 1000\n",
    "avg_reward, rewards, frames = dqn._eval(env, num_episodes, render=True)\n",
    "\n",
    "# plot rewards per episode\n",
    "plt.plot(rewards)\n",
    "plt.title(\"Rewards per Episode\")\n",
    "plt.xlabel(\"Episode\")\n",
    "plt.ylabel(\"Reward\")\n",
    "plt.show()"
   ]
  },
  {
   "cell_type": "code",
   "execution_count": 6,
   "id": "a846cef2-e6fb-440a-88fb-38257bb78cd5",
   "metadata": {
    "scrolled": true
   },
   "outputs": [
    {
     "data": {
      "image/jpeg": "[encoded data removed]",
      "image/png": "[encoded data removed]",
      "text/plain": [
       "<PIL.Image.Image image mode=RGB size=160x210>"
      ]
     },
     "metadata": {},
     "output_type": "display_data"
    }
   ],
   "source": [
    "# animate model's performance for episodes that are a multiple of 1000\n",
    "for frame in frames:\n",
    "    display.display(Image.fromarray(frame))\n",
    "    time.sleep(0.05)  # Adjust for speed of rendering\n",
    "    display.clear_output(wait=True)"
   ]
  },
  {
   "cell_type": "code",
   "execution_count": null,
   "id": "e2dd336f-0d50-4591-a00c-8c1d7221205f",
   "metadata": {},
   "outputs": [],
   "source": [
    "env.close()"
   ]
  }
 ],
 "metadata": {
  "kernelspec": {
   "display_name": "Python 3 (ipykernel)",
   "language": "python",
   "name": "python3"
  },
  "language_info": {
   "codemirror_mode": {
    "name": "ipython",
    "version": 3
   },
   "file_extension": ".py",
   "mimetype": "text/x-python",
   "name": "python",
   "nbconvert_exporter": "python",
   "pygments_lexer": "ipython3",
   "version": "3.11.7"
  }
 },
 "nbformat": 4,
 "nbformat_minor": 5
}
