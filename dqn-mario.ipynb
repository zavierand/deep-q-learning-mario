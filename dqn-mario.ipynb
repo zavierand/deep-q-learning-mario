{
 "cells": [
  {
   "cell_type": "markdown",
   "id": "52b26059-4484-4c0d-98d0-a5eee92d0b48",
   "metadata": {},
   "source": [
    "# Deep Q-Learning on Mario Bros\n",
    "<hr>\n",
    "This is a reinforcement learning project on implementing a deep q-network and training it to play the Atari 2600 version of Mario Bros. Below is the notebook documenting training, experiments done, etc."
   ]
  },
  {
   "cell_type": "markdown",
   "id": "9fee4ed1-2f42-49c6-ac42-ccbbdfb1515c",
   "metadata": {},
   "source": [
    "Let's create the gym environment"
   ]
  },
  {
   "cell_type": "code",
   "execution_count": 1,
   "id": "54a301b3-93b2-49dd-b74b-f6c26eb792d6",
   "metadata": {},
   "outputs": [
    {
     "name": "stdout",
     "output_type": "stream",
     "text": [
      "Requirement already satisfied: gymnasium[other] in /opt/anaconda3/lib/python3.11/site-packages (1.1.1)\n",
      "Requirement already satisfied: numpy>=1.21.0 in /opt/anaconda3/lib/python3.11/site-packages (from gymnasium[other]) (1.26.4)\n",
      "Requirement already satisfied: cloudpickle>=1.2.0 in /opt/anaconda3/lib/python3.11/site-packages (from gymnasium[other]) (2.2.1)\n",
      "Requirement already satisfied: typing-extensions>=4.3.0 in /opt/anaconda3/lib/python3.11/site-packages (from gymnasium[other]) (4.12.2)\n",
      "Requirement already satisfied: farama-notifications>=0.0.1 in /opt/anaconda3/lib/python3.11/site-packages (from gymnasium[other]) (0.0.4)\n",
      "Requirement already satisfied: moviepy>=1.0.0 in /opt/anaconda3/lib/python3.11/site-packages (from gymnasium[other]) (2.1.2)\n",
      "Requirement already satisfied: matplotlib>=3.0 in /opt/anaconda3/lib/python3.11/site-packages (from gymnasium[other]) (3.10.0)\n",
      "Requirement already satisfied: opencv-python>=3.0 in /opt/anaconda3/lib/python3.11/site-packages (from gymnasium[other]) (4.11.0.86)\n",
      "Requirement already satisfied: seaborn>=0.13 in /opt/anaconda3/lib/python3.11/site-packages (from gymnasium[other]) (0.13.2)\n",
      "Requirement already satisfied: contourpy>=1.0.1 in /opt/anaconda3/lib/python3.11/site-packages (from matplotlib>=3.0->gymnasium[other]) (1.2.0)\n",
      "Requirement already satisfied: cycler>=0.10 in /opt/anaconda3/lib/python3.11/site-packages (from matplotlib>=3.0->gymnasium[other]) (0.11.0)\n",
      "Requirement already satisfied: fonttools>=4.22.0 in /opt/anaconda3/lib/python3.11/site-packages (from matplotlib>=3.0->gymnasium[other]) (4.25.0)\n",
      "Requirement already satisfied: kiwisolver>=1.3.1 in /opt/anaconda3/lib/python3.11/site-packages (from matplotlib>=3.0->gymnasium[other]) (1.4.4)\n",
      "Requirement already satisfied: packaging>=20.0 in /opt/anaconda3/lib/python3.11/site-packages (from matplotlib>=3.0->gymnasium[other]) (23.1)\n",
      "Requirement already satisfied: pillow>=8 in /opt/anaconda3/lib/python3.11/site-packages (from matplotlib>=3.0->gymnasium[other]) (10.2.0)\n",
      "Requirement already satisfied: pyparsing>=2.3.1 in /opt/anaconda3/lib/python3.11/site-packages (from matplotlib>=3.0->gymnasium[other]) (3.0.9)\n",
      "Requirement already satisfied: python-dateutil>=2.7 in /opt/anaconda3/lib/python3.11/site-packages (from matplotlib>=3.0->gymnasium[other]) (2.8.2)\n",
      "Requirement already satisfied: decorator<6.0,>=4.0.2 in /opt/anaconda3/lib/python3.11/site-packages (from moviepy>=1.0.0->gymnasium[other]) (5.1.1)\n",
      "Requirement already satisfied: imageio<3.0,>=2.5 in /opt/anaconda3/lib/python3.11/site-packages (from moviepy>=1.0.0->gymnasium[other]) (2.33.1)\n",
      "Requirement already satisfied: imageio_ffmpeg>=0.2.0 in /opt/anaconda3/lib/python3.11/site-packages (from moviepy>=1.0.0->gymnasium[other]) (0.6.0)\n",
      "Requirement already satisfied: proglog<=1.0.0 in /opt/anaconda3/lib/python3.11/site-packages (from moviepy>=1.0.0->gymnasium[other]) (0.1.12)\n",
      "Requirement already satisfied: python-dotenv>=0.10 in /opt/anaconda3/lib/python3.11/site-packages (from moviepy>=1.0.0->gymnasium[other]) (0.21.0)\n",
      "Requirement already satisfied: tqdm in /opt/anaconda3/lib/python3.11/site-packages (from proglog<=1.0.0->moviepy>=1.0.0->gymnasium[other]) (4.67.1)\n",
      "Requirement already satisfied: six>=1.5 in /opt/anaconda3/lib/python3.11/site-packages (from python-dateutil>=2.7->matplotlib>=3.0->gymnasium[other]) (1.16.0)\n",
      "Requirement already satisfied: pandas>=1.2 in /opt/anaconda3/lib/python3.11/site-packages (from seaborn>=0.13->gymnasium[other]) (1.5.3)\n",
      "Requirement already satisfied: pytz>=2020.1 in /opt/anaconda3/lib/python3.11/site-packages (from pandas>=1.2->seaborn>=0.13->gymnasium[other]) (2023.3.post1)\n",
      "Note: you may need to restart the kernel to use updated packages.\n"
     ]
    }
   ],
   "source": [
    "pip install \"gymnasium[other]\""
   ]
  },
  {
   "cell_type": "code",
   "execution_count": 2,
   "id": "153bdbd3-b480-4be4-8923-104396ac806b",
   "metadata": {},
   "outputs": [],
   "source": [
    "# import environment dependencies\n",
    "import gymnasium as gym\n",
    "from gymnasium.wrappers import GrayscaleObservation, ResizeObservation, FrameStackObservation\n",
    "import ale_py\n",
    "from ale_py import ALEInterface\n",
    "\n",
    "# import saved model\n",
    "import torch\n",
    "\n",
    "# import model\n",
    "from dqn import DQN\n",
    "\n",
    "# import plotting\n",
    "import matplotlib.pyplot as plt\n",
    "\n",
    "# import wandb for logging\n",
    "import wandb\n",
    "\n",
    "# import rendering\n",
    "from IPython import display\n",
    "from PIL import Image\n",
    "import time"
   ]
  },
  {
   "cell_type": "markdown",
   "id": "6f889745-eb0a-4b4e-a23b-f01f74a67a50",
   "metadata": {},
   "source": [
    "Here is some starter code to play around with the environment and API - get a feel for what is happening with the API and the wrapper."
   ]
  },
  {
   "cell_type": "code",
   "execution_count": 3,
   "id": "35cab364-7559-4e6c-bc86-6988647250f8",
   "metadata": {},
   "outputs": [
    {
     "name": "stderr",
     "output_type": "stream",
     "text": [
      "A.L.E: Arcade Learning Environment (version 0.11.0+dfae0bd)\n",
      "[Powered by Stella]\n"
     ]
    },
    {
     "name": "stdout",
     "output_type": "stream",
     "text": [
      "6\n",
      "Box(0, 255, (210, 160, 3), uint8)\n",
      "False\n",
      "<class 'numpy.int64'>\n",
      "<class 'gymnasium.spaces.box.Box'>\n",
      "<class 'bool'>\n",
      "(210, 160, 3)\n",
      "render type: <class 'numpy.ndarray'>\n"
     ]
    },
    {
     "data": {
      "image/png": "[encoded data removed]",
      "text/plain": [
       "<Figure size 640x480 with 1 Axes>"
      ]
     },
     "metadata": {},
     "output_type": "display_data"
    }
   ],
   "source": [
    "# let's create the environment to make sure it works\n",
    "env_prac = gym.make(\n",
    "    'ALE/MarioBros-v5', \n",
    "    obs_type = 'rgb',\n",
    "    render_mode = 'rgb_array'\n",
    ")\n",
    "\n",
    "obs, info = env_prac.reset()\n",
    "ACTION_SIZE = env_prac.action_space.n\n",
    "ACTIONS = env_prac.action_space.sample()\n",
    "OBSERVATIONS = env_prac.observation_space\n",
    "obs, reward, terminated, truncated, info = env_prac.step(ACTIONS)\n",
    "\n",
    "# print and log to see data types\n",
    "print(ACTIONS)\n",
    "print(OBSERVATIONS)\n",
    "print(terminated)\n",
    "\n",
    "print(type(ACTIONS))\n",
    "print(type(OBSERVATIONS))\n",
    "print(type(terminated))\n",
    "print(env_prac.render().shape)\n",
    "\n",
    "# render the image\n",
    "img = plt.imshow(env_prac.render()) # only call this once\n",
    "print('render type:', type(env_prac.render()))\n",
    "\n",
    "env_prac.close()"
   ]
  },
  {
   "cell_type": "code",
   "execution_count": 4,
   "id": "4037d9b5-1a78-4ced-ae94-78bb50e87e34",
   "metadata": {},
   "outputs": [
    {
     "name": "stdout",
     "output_type": "stream",
     "text": [
      "Shape of observation: (4, 84, 84)\n"
     ]
    }
   ],
   "source": [
    "# okay, let's actually start writing some code\n",
    "rew_arr = [] # array holding rewards\n",
    "episode_count = 100 # num episodes to train on\n",
    "\n",
    "# instantiate the mario emulator gym\n",
    "env = gym.make(\n",
    "    'ALE/MarioBros-v5',\n",
    "    obs_type = 'rgb',\n",
    "    render_mode = 'rgb_array',\n",
    "    frameskip = 5\n",
    ")\n",
    "\n",
    "# add framestacking, grayscale and resize for better temporal inferencing\n",
    "    # indicated by previous model performance\n",
    "env = GrayscaleObservation(env)\n",
    "env = ResizeObservation(env, (84, 84))\n",
    "env = FrameStackObservation(env, stack_size=4)\n",
    "\n",
    "# reset environment\n",
    "obs, info = env.reset()\n",
    "\n",
    "#img = plt.imshow(env.render()) # only call this once\n",
    "#obs = obs.transpose(0, 3, 1, 2).reshape(210, 160, 12)\n",
    "print(f'Shape of observation: {obs.shape}')"
   ]
  },
  {
   "cell_type": "code",
   "execution_count": 5,
   "id": "990f1e09-7b1b-4f6b-a9d6-cdc7f95c3c3a",
   "metadata": {},
   "outputs": [
    {
     "name": "stdout",
     "output_type": "stream",
     "text": [
      "In Channels for obs: 4\n"
     ]
    }
   ],
   "source": [
    "# set in-channels for cnn\n",
    "in_channels = obs.shape[0]\n",
    "print(f'In Channels for obs: {in_channels}')\n",
    "\n",
    "# instantiate the model\n",
    "dqn = DQN(env, in_channels, env.action_space.n)"
   ]
  },
  {
   "cell_type": "code",
   "execution_count": 6,
   "id": "bb74c26b-93af-4e4e-8d57-1774469da797",
   "metadata": {},
   "outputs": [
    {
     "name": "stderr",
     "output_type": "stream",
     "text": [
      "\u001b[34m\u001b[1mwandb\u001b[0m: Currently logged in as: \u001b[33mzavierand\u001b[0m (\u001b[33mzavierand-new-york-university\u001b[0m) to \u001b[32mhttps://api.wandb.ai\u001b[0m. Use \u001b[1m`wandb login --relogin`\u001b[0m to force relogin\n"
     ]
    },
    {
     "data": {
      "text/html": [
       "Tracking run with wandb version 0.19.11"
      ],
      "text/plain": [
       "<IPython.core.display.HTML object>"
      ]
     },
     "metadata": {},
     "output_type": "display_data"
    },
    {
     "data": {
      "text/html": [
       "Run data is saved locally in <code>/Users/user/Desktop/Projects/dqn-mario/wandb/run-20250513_130939-fwnpi6gy</code>"
      ],
      "text/plain": [
       "<IPython.core.display.HTML object>"
      ]
     },
     "metadata": {},
     "output_type": "display_data"
    },
    {
     "data": {
      "text/html": [
       "Syncing run <strong><a href='https://wandb.ai/zavierand-new-york-university/dqn-mario/runs/fwnpi6gy' target=\"_blank\">rosy-monkey-67</a></strong> to <a href='https://wandb.ai/zavierand-new-york-university/dqn-mario' target=\"_blank\">Weights & Biases</a> (<a href='https://wandb.me/developer-guide' target=\"_blank\">docs</a>)<br>"
      ],
      "text/plain": [
       "<IPython.core.display.HTML object>"
      ]
     },
     "metadata": {},
     "output_type": "display_data"
    },
    {
     "data": {
      "text/html": [
       " View project at <a href='https://wandb.ai/zavierand-new-york-university/dqn-mario' target=\"_blank\">https://wandb.ai/zavierand-new-york-university/dqn-mario</a>"
      ],
      "text/plain": [
       "<IPython.core.display.HTML object>"
      ]
     },
     "metadata": {},
     "output_type": "display_data"
    },
    {
     "data": {
      "text/html": [
       " View run at <a href='https://wandb.ai/zavierand-new-york-university/dqn-mario/runs/fwnpi6gy' target=\"_blank\">https://wandb.ai/zavierand-new-york-university/dqn-mario/runs/fwnpi6gy</a>"
      ],
      "text/plain": [
       "<IPython.core.display.HTML object>"
      ]
     },
     "metadata": {},
     "output_type": "display_data"
    },
    {
     "data": {
      "text/html": [
       "<button onClick=\"this.nextSibling.style.display='block';this.style.display='none';\">Display W&B run</button><iframe src='https://wandb.ai/zavierand-new-york-university/dqn-mario/runs/fwnpi6gy?jupyter=true' style='border:none;width:100%;height:420px;display:none;'></iframe>"
      ],
      "text/plain": [
       "<wandb.sdk.wandb_run.Run at 0x16c00eb10>"
      ]
     },
     "execution_count": 6,
     "metadata": {},
     "output_type": "execute_result"
    }
   ],
   "source": [
    "# init wandb logging \n",
    "wandb.login()\n",
    "\n",
    "wandb.init(\n",
    "    entity=\"zavierand-new-york-university\",\n",
    "    project='dqn-mario',\n",
    "    config={\n",
    "        'learning_rate': 1e-2,\n",
    "        'architecture': 'DQN',\n",
    "        'epochs': 5000,\n",
    "    },\n",
    ")"
   ]
  },
  {
   "cell_type": "code",
   "execution_count": 14,
   "id": "cf4cbea1-7c26-43b1-8e80-032d31c940f6",
   "metadata": {},
   "outputs": [
    {
     "name": "stdout",
     "output_type": "stream",
     "text": [
      "Model's state_dict:\n",
      "conv_layers.conv.0.weight \t torch.Size([32, 4, 8, 8])\n",
      "conv_layers.conv.0.bias \t torch.Size([32])\n",
      "conv_layers.conv.3.weight \t torch.Size([64, 32, 4, 4])\n",
      "conv_layers.conv.3.bias \t torch.Size([64])\n",
      "model.0.weight \t torch.Size([512, 5184])\n",
      "model.0.bias \t torch.Size([512])\n",
      "model.2.weight \t torch.Size([18, 512])\n",
      "model.2.bias \t torch.Size([18])\n",
      "target_model.0.weight \t torch.Size([512, 5184])\n",
      "target_model.0.bias \t torch.Size([512])\n",
      "target_model.2.weight \t torch.Size([18, 512])\n",
      "target_model.2.bias \t torch.Size([18])\n",
      "Rendering agent at episode 1000\n",
      "Average Reward per Episode: 0.0\n"
     ]
    },
    {
     "data": {
      "image/png": "[encoded data removed]",
      "text/plain": [
       "<Figure size 640x480 with 1 Axes>"
      ]
     },
     "metadata": {},
     "output_type": "display_data"
    }
   ],
   "source": [
    "# load the trained model\n",
    "checkpoint = torch.load('./checkpoints/train_02/dqn_checkpoint_epoch_4500.pt', map_location=torch.device('cpu'))\n",
    "\n",
    "# print model parameters\n",
    "print(\"Model's state_dict:\")\n",
    "for param_tensor in dqn.state_dict():\n",
    "    print(param_tensor, \"\\t\", dqn.state_dict()[param_tensor].size())\n",
    "\n",
    "dqn.model.load_state_dict(checkpoint['model_state_dict'])\n",
    "\n",
    "# Evaluate the model's performance and capture frames\n",
    "num_episodes = 1000\n",
    "avg_reward, rewards, frames = dqn._eval(env, num_episodes, render=True)\n",
    "\n",
    "# plot rewards per episode\n",
    "plt.plot(rewards)\n",
    "plt.title(\"Rewards per Episode\")\n",
    "plt.xlabel(\"Episode\")\n",
    "plt.ylabel(\"Reward\")\n",
    "plt.show()"
   ]
  },
  {
   "cell_type": "code",
   "execution_count": 15,
   "id": "a846cef2-e6fb-440a-88fb-38257bb78cd5",
   "metadata": {
    "scrolled": true
   },
   "outputs": [
    {
     "data": {
      "image/jpeg": "[encoded data removed]",
      "image/png": "[encoded data removed]",
      "text/plain": [
       "<PIL.Image.Image image mode=RGB size=160x210>"
      ]
     },
     "metadata": {},
     "output_type": "display_data"
    }
   ],
   "source": [
    "# animate model's performance for episodes that are a multiple of 1000\n",
    "for frame in frames:\n",
    "    display.display(Image.fromarray(frame))\n",
    "    time.sleep(0.05)  # Adjust for speed of rendering\n",
    "    display.clear_output(wait=True)"
   ]
  },
  {
   "cell_type": "code",
   "execution_count": 13,
   "id": "e2dd336f-0d50-4591-a00c-8c1d7221205f",
   "metadata": {},
   "outputs": [],
   "source": [
    "env.close()"
   ]
  }
 ],
 "metadata": {
  "kernelspec": {
   "display_name": "Python 3 (ipykernel)",
   "language": "python",
   "name": "python3"
  },
  "language_info": {
   "codemirror_mode": {
    "name": "ipython",
    "version": 3
   },
   "file_extension": ".py",
   "mimetype": "text/x-python",
   "name": "python",
   "nbconvert_exporter": "python",
   "pygments_lexer": "ipython3",
   "version": "3.11.7"
  }
 },
 "nbformat": 4,
 "nbformat_minor": 5
}
