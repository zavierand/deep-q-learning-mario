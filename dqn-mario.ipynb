{
 "cells": [
  {
   "cell_type": "markdown",
   "id": "52b26059-4484-4c0d-98d0-a5eee92d0b48",
   "metadata": {},
   "source": [
    "# Deep Q-Learning on Mario Bros\n",
    "<hr>\n",
    "This is a reinforcement learning project on implementing a deep q-network and training it to play the Atari 2600 version of Mario Bros. Below is the notebook documenting training, experiments done, etc."
   ]
  },
  {
   "cell_type": "markdown",
   "id": "9fee4ed1-2f42-49c6-ac42-ccbbdfb1515c",
   "metadata": {},
   "source": [
    "Let's create the gym environment"
   ]
  },
  {
   "cell_type": "code",
   "execution_count": 1,
   "id": "2c8a435b-faa8-4716-8be0-7fbe7e1f4b63",
   "metadata": {},
   "outputs": [
    {
     "name": "stdout",
     "output_type": "stream",
     "text": [
      "Requirement already satisfied: wandb in /opt/anaconda3/lib/python3.11/site-packages (0.19.11)\n",
      "Requirement already satisfied: click!=8.0.0,>=7.1 in /opt/anaconda3/lib/python3.11/site-packages (from wandb) (8.1.7)\n",
      "Requirement already satisfied: docker-pycreds>=0.4.0 in /opt/anaconda3/lib/python3.11/site-packages (from wandb) (0.4.0)\n",
      "Requirement already satisfied: gitpython!=3.1.29,>=1.0.0 in /opt/anaconda3/lib/python3.11/site-packages (from wandb) (3.1.37)\n",
      "Requirement already satisfied: platformdirs in /opt/anaconda3/lib/python3.11/site-packages (from wandb) (3.10.0)\n",
      "Requirement already satisfied: protobuf!=4.21.0,!=5.28.0,<7,>=3.19.0 in /opt/anaconda3/lib/python3.11/site-packages (from wandb) (3.20.3)\n",
      "Requirement already satisfied: psutil>=5.0.0 in /opt/anaconda3/lib/python3.11/site-packages (from wandb) (5.9.0)\n",
      "Requirement already satisfied: pydantic<3 in /opt/anaconda3/lib/python3.11/site-packages (from wandb) (2.10.3)\n",
      "Requirement already satisfied: pyyaml in /opt/anaconda3/lib/python3.11/site-packages (from wandb) (6.0.1)\n",
      "Requirement already satisfied: requests<3,>=2.0.0 in /opt/anaconda3/lib/python3.11/site-packages (from wandb) (2.31.0)\n",
      "Requirement already satisfied: sentry-sdk>=2.0.0 in /opt/anaconda3/lib/python3.11/site-packages (from wandb) (2.27.0)\n",
      "Requirement already satisfied: setproctitle in /opt/anaconda3/lib/python3.11/site-packages (from wandb) (1.3.6)\n",
      "Requirement already satisfied: setuptools in /opt/anaconda3/lib/python3.11/site-packages (from wandb) (68.2.2)\n",
      "Requirement already satisfied: typing-extensions<5,>=4.4 in /opt/anaconda3/lib/python3.11/site-packages (from wandb) (4.12.2)\n",
      "Requirement already satisfied: annotated-types>=0.6.0 in /opt/anaconda3/lib/python3.11/site-packages (from pydantic<3->wandb) (0.7.0)\n",
      "Requirement already satisfied: pydantic-core==2.27.1 in /opt/anaconda3/lib/python3.11/site-packages (from pydantic<3->wandb) (2.27.1)\n",
      "Requirement already satisfied: charset-normalizer<4,>=2 in /opt/anaconda3/lib/python3.11/site-packages (from requests<3,>=2.0.0->wandb) (2.0.4)\n",
      "Requirement already satisfied: idna<4,>=2.5 in /opt/anaconda3/lib/python3.11/site-packages (from requests<3,>=2.0.0->wandb) (3.10)\n",
      "Requirement already satisfied: urllib3<3,>=1.21.1 in /opt/anaconda3/lib/python3.11/site-packages (from requests<3,>=2.0.0->wandb) (2.0.7)\n",
      "Requirement already satisfied: certifi>=2017.4.17 in /opt/anaconda3/lib/python3.11/site-packages (from requests<3,>=2.0.0->wandb) (2024.8.30)\n",
      "Requirement already satisfied: six>=1.4.0 in /opt/anaconda3/lib/python3.11/site-packages (from docker-pycreds>=0.4.0->wandb) (1.16.0)\n",
      "Requirement already satisfied: gitdb<5,>=4.0.1 in /opt/anaconda3/lib/python3.11/site-packages (from gitpython!=3.1.29,>=1.0.0->wandb) (4.0.7)\n",
      "Requirement already satisfied: smmap<5,>=3.0.1 in /opt/anaconda3/lib/python3.11/site-packages (from gitdb<5,>=4.0.1->gitpython!=3.1.29,>=1.0.0->wandb) (4.0.0)\n",
      "Note: you may need to restart the kernel to use updated packages.\n"
     ]
    }
   ],
   "source": [
    "pip install wandb"
   ]
  },
  {
   "cell_type": "code",
   "execution_count": 2,
   "id": "153bdbd3-b480-4be4-8923-104396ac806b",
   "metadata": {},
   "outputs": [],
   "source": [
    "# import environment dependencies\n",
    "import gymnasium as gym\n",
    "import ale_py\n",
    "from ale_py import ALEInterface\n",
    "\n",
    "# import saved model\n",
    "import torch\n",
    "\n",
    "# import model\n",
    "from dqn import DQN\n",
    "\n",
    "# import plotting\n",
    "import matplotlib.pyplot as plt\n",
    "\n",
    "# import wandb for logging\n",
    "import wandb\n",
    "\n",
    "# import rendering\n",
    "from IPython import display\n",
    "from PIL import Image\n",
    "import time"
   ]
  },
  {
   "cell_type": "markdown",
   "id": "6f889745-eb0a-4b4e-a23b-f01f74a67a50",
   "metadata": {},
   "source": [
    "Here is some starter code to play around with the environment and API - get a feel for what is happening with the API and the wrapper."
   ]
  },
  {
   "cell_type": "code",
   "execution_count": 3,
   "id": "35cab364-7559-4e6c-bc86-6988647250f8",
   "metadata": {},
   "outputs": [
    {
     "name": "stdout",
     "output_type": "stream",
     "text": [
      "13\n",
      "Box(0, 255, (210, 160, 3), uint8)\n",
      "False\n",
      "<class 'numpy.int64'>\n",
      "<class 'gymnasium.spaces.box.Box'>\n",
      "<class 'bool'>\n",
      "render type: <class 'numpy.ndarray'>\n"
     ]
    },
    {
     "name": "stderr",
     "output_type": "stream",
     "text": [
      "A.L.E: Arcade Learning Environment (version 0.11.0+dfae0bd)\n",
      "[Powered by Stella]\n"
     ]
    },
    {
     "data": {
      "image/png": "[encoded data removed]",
      "text/plain": [
       "<Figure size 640x480 with 1 Axes>"
      ]
     },
     "metadata": {},
     "output_type": "display_data"
    }
   ],
   "source": [
    "# let's create the environment to make sure it works\n",
    "env = gym.make(\n",
    "    'ALE/MarioBros-v5', \n",
    "    obs_type = 'rgb',\n",
    "    render_mode = 'rgb_array'\n",
    ")\n",
    "\n",
    "obs, info = env.reset()\n",
    "ACTION_SIZE = env.action_space.n\n",
    "ACTIONS = env.action_space.sample()\n",
    "OBSERVATIONS = env.observation_space\n",
    "obs, reward, terminated, truncated, info = env.step(ACTIONS)\n",
    "\n",
    "# print and log to see data types\n",
    "print(ACTIONS)\n",
    "print(OBSERVATIONS)\n",
    "print(terminated)\n",
    "\n",
    "print(type(ACTIONS))\n",
    "print(type(OBSERVATIONS))\n",
    "print(type(terminated))\n",
    "\n",
    "# render the image\n",
    "img = plt.imshow(env.render()) # only call this once\n",
    "print('render type:', type(env.render()))\n",
    "\n",
    "env.close()"
   ]
  },
  {
   "cell_type": "code",
   "execution_count": 4,
   "id": "4037d9b5-1a78-4ced-ae94-78bb50e87e34",
   "metadata": {},
   "outputs": [],
   "source": [
    "# okay, let's actually start writing some code\n",
    "rew_arr = [] # array holding rewards\n",
    "episode_count = 100 # num episodes to train on\n",
    "\n",
    "# instantiate the mario emulator gym\n",
    "env = gym.make(\n",
    "    'ALE/MarioBros-v5',\n",
    "    obs_type = 'rgb',\n",
    "    render_mode = 'rgb_array'\n",
    ")"
   ]
  },
  {
   "cell_type": "code",
   "execution_count": 5,
   "id": "990f1e09-7b1b-4f6b-a9d6-cdc7f95c3c3a",
   "metadata": {
    "scrolled": true
   },
   "outputs": [
    {
     "name": "stderr",
     "output_type": "stream",
     "text": [
      "\u001b[34m\u001b[1mwandb\u001b[0m: Currently logged in as: \u001b[33mzavierand\u001b[0m (\u001b[33mzavierand-new-york-university\u001b[0m) to \u001b[32mhttps://api.wandb.ai\u001b[0m. Use \u001b[1m`wandb login --relogin`\u001b[0m to force relogin\n"
     ]
    },
    {
     "data": {
      "text/html": [
       "Tracking run with wandb version 0.19.11"
      ],
      "text/plain": [
       "<IPython.core.display.HTML object>"
      ]
     },
     "metadata": {},
     "output_type": "display_data"
    },
    {
     "data": {
      "text/html": [
       "Run data is saved locally in <code>/Users/user/Desktop/Projects/dqn-mario/wandb/run-20250510_193202-m3logxj6</code>"
      ],
      "text/plain": [
       "<IPython.core.display.HTML object>"
      ]
     },
     "metadata": {},
     "output_type": "display_data"
    },
    {
     "data": {
      "text/html": [
       "Syncing run <strong><a href='https://wandb.ai/zavierand-new-york-university/dqn-mario/runs/m3logxj6' target=\"_blank\">vital-fog-13</a></strong> to <a href='https://wandb.ai/zavierand-new-york-university/dqn-mario' target=\"_blank\">Weights & Biases</a> (<a href='https://wandb.me/developer-guide' target=\"_blank\">docs</a>)<br>"
      ],
      "text/plain": [
       "<IPython.core.display.HTML object>"
      ]
     },
     "metadata": {},
     "output_type": "display_data"
    },
    {
     "data": {
      "text/html": [
       " View project at <a href='https://wandb.ai/zavierand-new-york-university/dqn-mario' target=\"_blank\">https://wandb.ai/zavierand-new-york-university/dqn-mario</a>"
      ],
      "text/plain": [
       "<IPython.core.display.HTML object>"
      ]
     },
     "metadata": {},
     "output_type": "display_data"
    },
    {
     "data": {
      "text/html": [
       " View run at <a href='https://wandb.ai/zavierand-new-york-university/dqn-mario/runs/m3logxj6' target=\"_blank\">https://wandb.ai/zavierand-new-york-university/dqn-mario/runs/m3logxj6</a>"
      ],
      "text/plain": [
       "<IPython.core.display.HTML object>"
      ]
     },
     "metadata": {},
     "output_type": "display_data"
    }
   ],
   "source": [
    "# instantiate the model\n",
    "obs, info = env.reset()\n",
    "in_channels = env.render().shape[2]\n",
    "\n",
    "wandb.login()\n",
    "\n",
    "# init wandb logging \n",
    "wandb.init(\n",
    "    entity=\"zavierand-new-york-university\",\n",
    "    project='dqn-mario',\n",
    "    config={\n",
    "        'learning_rate': 1e-2,\n",
    "        'architecture': 'DQN',\n",
    "        'epochs': 100,\n",
    "    },\n",
    ")\n",
    "\n",
    "# instantiate the model\n",
    "dqn = DQN(env, in_channels, env.action_space.n)\n",
    "\n",
    "# train the model\n",
    "# dqn._train(env)"
   ]
  },
  {
   "cell_type": "code",
   "execution_count": null,
   "id": "cf4cbea1-7c26-43b1-8e80-032d31c940f6",
   "metadata": {},
   "outputs": [
    {
     "data": {
      "image/jpeg": "[encoded data removed]",
      "image/png": "[encoded data removed]",
      "text/plain": [
       "<PIL.Image.Image image mode=RGB size=160x210>"
      ]
     },
     "metadata": {},
     "output_type": "display_data"
    }
   ],
   "source": [
    "# load the trained model\n",
    "dqn.model.load_state_dict(torch.load('./dqn_trained.pt'))\n",
    "\n",
    "# Evaluate the model's performance and capture frames\n",
    "num_episodes = 10000\n",
    "avg_reward, rewards, frames = dqn._eval(env, num_episodes=10000, render=True)\n",
    "\n",
    "# Plot rewards per episode\n",
    "plt.plot(rewards)\n",
    "plt.title(\"Rewards per Episode\")\n",
    "plt.xlabel(\"Episode\")\n",
    "plt.ylabel(\"Reward\")\n",
    "plt.show()\n",
    "\n",
    "# Animate the model's performance for episodes that are a multiple of 1000\n",
    "for frame in frames:\n",
    "    display.display(Image.fromarray(frame))\n",
    "    time.sleep(0.05)  # Adjust for speed of rendering\n",
    "    #display.clear_output(wait=True)\n"
   ]
  }
 ],
 "metadata": {
  "kernelspec": {
   "display_name": "Python 3 (ipykernel)",
   "language": "python",
   "name": "python3"
  },
  "language_info": {
   "codemirror_mode": {
    "name": "ipython",
    "version": 3
   },
   "file_extension": ".py",
   "mimetype": "text/x-python",
   "name": "python",
   "nbconvert_exporter": "python",
   "pygments_lexer": "ipython3",
   "version": "3.11.7"
  }
 },
 "nbformat": 4,
 "nbformat_minor": 5
}
